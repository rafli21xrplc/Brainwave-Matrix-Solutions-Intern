{
 "metadata": {
  "kernelspec": {
   "language": "python",
   "display_name": "Python 3",
   "name": "python3"
  },
  "language_info": {
   "name": "python",
   "version": "3.10.14",
   "mimetype": "text/x-python",
   "codemirror_mode": {
    "name": "ipython",
    "version": 3
   },
   "pygments_lexer": "ipython3",
   "nbconvert_exporter": "python",
   "file_extension": ".py"
  },
  "kaggle": {
   "accelerator": "none",
   "dataSources": [
    {
     "sourceId": 10236679,
     "sourceType": "datasetVersion",
     "datasetId": 6329967
    }
   ],
   "dockerImageVersionId": 30804,
   "isInternetEnabled": true,
   "language": "python",
   "sourceType": "notebook",
   "isGpuEnabled": false
  }
 },
 "nbformat_minor": 4,
 "nbformat": 4,
 "cells": [
  {
   "cell_type": "code",
   "source": "# This Python 3 environment comes with many helpful analytics libraries installed\n# It is defined by the kaggle/python Docker image: https://github.com/kaggle/docker-python\n# For example, here's several helpful packages to load\n\nimport numpy as np # linear algebra\nimport pandas as pd # data processing, CSV file I/O (e.g. pd.read_csv)\n\n# Input data files are available in the read-only \"../input/\" directory\n# For example, running this (by clicking run or pressing Shift+Enter) will list all files under the input directory\n\nimport os\nfor dirname, _, filenames in os.walk('/kaggle/input'):\n    for filename in filenames:\n        print(os.path.join(dirname, filename))\n\n# You can write up to 20GB to the current directory (/kaggle/working/) that gets preserved as output when you create a version using \"Save & Run All\" \n# You can also write temporary files to /kaggle/temp/, but they won't be saved outside of the current session",
   "metadata": {
    "_uuid": "8f2839f25d086af736a60e9eeb907d3b93b6e0e5",
    "_cell_guid": "b1076dfc-b9ad-4769-8c92-a6c4dae69d19",
    "trusted": true,
    "execution": {
     "iopub.status.busy": "2024-12-18T13:54:47.242374Z",
     "iopub.execute_input": "2024-12-18T13:54:47.242801Z",
     "iopub.status.idle": "2024-12-18T13:54:47.269272Z",
     "shell.execute_reply.started": "2024-12-18T13:54:47.242767Z",
     "shell.execute_reply": "2024-12-18T13:54:47.268087Z"
    }
   },
   "outputs": [
    {
     "name": "stdout",
     "text": "/kaggle/input/fake-news/fakenews.csv\n/kaggle/input/fake-news/FakeNewsNet.csv\n",
     "output_type": "stream"
    }
   ],
   "execution_count": 103
  },
  {
   "cell_type": "markdown",
   "source": "****IMPORT DATA AND CHEKING FOR CLEANING DATA****",
   "metadata": {}
  },
  {
   "cell_type": "code",
   "source": "import pandas as pd",
   "metadata": {
    "trusted": true,
    "execution": {
     "iopub.status.busy": "2024-12-18T13:54:47.271409Z",
     "iopub.execute_input": "2024-12-18T13:54:47.271858Z",
     "iopub.status.idle": "2024-12-18T13:54:47.277092Z",
     "shell.execute_reply.started": "2024-12-18T13:54:47.271811Z",
     "shell.execute_reply": "2024-12-18T13:54:47.275804Z"
    },
    "ExecuteTime": {
     "end_time": "2024-12-18T14:38:10.778477Z",
     "start_time": "2024-12-18T14:38:07.909240Z"
    }
   },
   "outputs": [],
   "execution_count": 1
  },
  {
   "cell_type": "code",
   "source": "df_news = pd.read_csv('./datasets/FakeNewsNet.csv')",
   "metadata": {
    "trusted": true,
    "execution": {
     "iopub.status.busy": "2024-12-18T13:54:47.278377Z",
     "iopub.execute_input": "2024-12-18T13:54:47.278693Z",
     "iopub.status.idle": "2024-12-18T13:54:47.392306Z",
     "shell.execute_reply.started": "2024-12-18T13:54:47.278656Z",
     "shell.execute_reply": "2024-12-18T13:54:47.391118Z"
    },
    "ExecuteTime": {
     "end_time": "2024-12-18T14:38:55.788016Z",
     "start_time": "2024-12-18T14:38:53.464667Z"
    }
   },
   "outputs": [],
   "execution_count": 2
  },
  {
   "cell_type": "code",
   "source": "df_news.head(10)",
   "metadata": {
    "trusted": true,
    "execution": {
     "iopub.status.busy": "2024-12-18T13:54:47.394451Z",
     "iopub.execute_input": "2024-12-18T13:54:47.394798Z",
     "iopub.status.idle": "2024-12-18T13:54:47.407920Z",
     "shell.execute_reply.started": "2024-12-18T13:54:47.394765Z",
     "shell.execute_reply": "2024-12-18T13:54:47.406764Z"
    },
    "ExecuteTime": {
     "end_time": "2024-12-18T14:38:57.588262Z",
     "start_time": "2024-12-18T14:38:57.549083Z"
    }
   },
   "outputs": [
    {
     "data": {
      "text/plain": [
       "                                               title  \\\n",
       "0  Kandi Burruss Explodes Over Rape Accusation on...   \n",
       "1  People's Choice Awards 2018: The best red carp...   \n",
       "2  Sophia Bush Sends Sweet Birthday Message to 'O...   \n",
       "3  Colombian singer Maluma sparks rumours of inap...   \n",
       "4  Gossip Girl 10 Years Later: How Upper East Sid...   \n",
       "5  Gwen Stefani Got Dumped by Blake Shelton Over ...   \n",
       "6  Broward County Sheriff Fired For Lying About P...   \n",
       "7  Amber Rose Shuts Down French Montana Dating Ru...   \n",
       "8  Mindy Kaling makes first post-baby appearance ...   \n",
       "9  Katharine McPhee Butchers Tony Nominations: “I...   \n",
       "\n",
       "                                            news_url          source_domain  \\\n",
       "0  http://toofab.com/2017/05/08/real-housewives-a...             toofab.com   \n",
       "1  https://www.today.com/style/see-people-s-choic...          www.today.com   \n",
       "2  https://www.etonline.com/news/220806_sophia_bu...       www.etonline.com   \n",
       "3  https://www.dailymail.co.uk/news/article-33655...    www.dailymail.co.uk   \n",
       "4  https://www.zerchoo.com/entertainment/gossip-g...        www.zerchoo.com   \n",
       "5  www.intouchweekly.com/posts/gwen-stefani-dumpe...  www.intouchweekly.com   \n",
       "6  https://yournewswire.com/broward-county-sherif...       yournewswire.com   \n",
       "7  www.etonline.com/news/214798_amber_rose_shuts_...       www.etonline.com   \n",
       "8  https://www.aol.com/article/entertainment/2018...            www.aol.com   \n",
       "9  https://www.98online.com/2018/05/02/katharine-...       www.98online.com   \n",
       "\n",
       "   tweet_num  real  \n",
       "0         42     1  \n",
       "1          0     1  \n",
       "2         63     1  \n",
       "3         20     1  \n",
       "4         38     1  \n",
       "5         45     0  \n",
       "6        124     0  \n",
       "7          4     0  \n",
       "8         59     1  \n",
       "9         10     1  "
      ],
      "text/html": [
       "<div>\n",
       "<style scoped>\n",
       "    .dataframe tbody tr th:only-of-type {\n",
       "        vertical-align: middle;\n",
       "    }\n",
       "\n",
       "    .dataframe tbody tr th {\n",
       "        vertical-align: top;\n",
       "    }\n",
       "\n",
       "    .dataframe thead th {\n",
       "        text-align: right;\n",
       "    }\n",
       "</style>\n",
       "<table border=\"1\" class=\"dataframe\">\n",
       "  <thead>\n",
       "    <tr style=\"text-align: right;\">\n",
       "      <th></th>\n",
       "      <th>title</th>\n",
       "      <th>news_url</th>\n",
       "      <th>source_domain</th>\n",
       "      <th>tweet_num</th>\n",
       "      <th>real</th>\n",
       "    </tr>\n",
       "  </thead>\n",
       "  <tbody>\n",
       "    <tr>\n",
       "      <th>0</th>\n",
       "      <td>Kandi Burruss Explodes Over Rape Accusation on...</td>\n",
       "      <td>http://toofab.com/2017/05/08/real-housewives-a...</td>\n",
       "      <td>toofab.com</td>\n",
       "      <td>42</td>\n",
       "      <td>1</td>\n",
       "    </tr>\n",
       "    <tr>\n",
       "      <th>1</th>\n",
       "      <td>People's Choice Awards 2018: The best red carp...</td>\n",
       "      <td>https://www.today.com/style/see-people-s-choic...</td>\n",
       "      <td>www.today.com</td>\n",
       "      <td>0</td>\n",
       "      <td>1</td>\n",
       "    </tr>\n",
       "    <tr>\n",
       "      <th>2</th>\n",
       "      <td>Sophia Bush Sends Sweet Birthday Message to 'O...</td>\n",
       "      <td>https://www.etonline.com/news/220806_sophia_bu...</td>\n",
       "      <td>www.etonline.com</td>\n",
       "      <td>63</td>\n",
       "      <td>1</td>\n",
       "    </tr>\n",
       "    <tr>\n",
       "      <th>3</th>\n",
       "      <td>Colombian singer Maluma sparks rumours of inap...</td>\n",
       "      <td>https://www.dailymail.co.uk/news/article-33655...</td>\n",
       "      <td>www.dailymail.co.uk</td>\n",
       "      <td>20</td>\n",
       "      <td>1</td>\n",
       "    </tr>\n",
       "    <tr>\n",
       "      <th>4</th>\n",
       "      <td>Gossip Girl 10 Years Later: How Upper East Sid...</td>\n",
       "      <td>https://www.zerchoo.com/entertainment/gossip-g...</td>\n",
       "      <td>www.zerchoo.com</td>\n",
       "      <td>38</td>\n",
       "      <td>1</td>\n",
       "    </tr>\n",
       "    <tr>\n",
       "      <th>5</th>\n",
       "      <td>Gwen Stefani Got Dumped by Blake Shelton Over ...</td>\n",
       "      <td>www.intouchweekly.com/posts/gwen-stefani-dumpe...</td>\n",
       "      <td>www.intouchweekly.com</td>\n",
       "      <td>45</td>\n",
       "      <td>0</td>\n",
       "    </tr>\n",
       "    <tr>\n",
       "      <th>6</th>\n",
       "      <td>Broward County Sheriff Fired For Lying About P...</td>\n",
       "      <td>https://yournewswire.com/broward-county-sherif...</td>\n",
       "      <td>yournewswire.com</td>\n",
       "      <td>124</td>\n",
       "      <td>0</td>\n",
       "    </tr>\n",
       "    <tr>\n",
       "      <th>7</th>\n",
       "      <td>Amber Rose Shuts Down French Montana Dating Ru...</td>\n",
       "      <td>www.etonline.com/news/214798_amber_rose_shuts_...</td>\n",
       "      <td>www.etonline.com</td>\n",
       "      <td>4</td>\n",
       "      <td>0</td>\n",
       "    </tr>\n",
       "    <tr>\n",
       "      <th>8</th>\n",
       "      <td>Mindy Kaling makes first post-baby appearance ...</td>\n",
       "      <td>https://www.aol.com/article/entertainment/2018...</td>\n",
       "      <td>www.aol.com</td>\n",
       "      <td>59</td>\n",
       "      <td>1</td>\n",
       "    </tr>\n",
       "    <tr>\n",
       "      <th>9</th>\n",
       "      <td>Katharine McPhee Butchers Tony Nominations: “I...</td>\n",
       "      <td>https://www.98online.com/2018/05/02/katharine-...</td>\n",
       "      <td>www.98online.com</td>\n",
       "      <td>10</td>\n",
       "      <td>1</td>\n",
       "    </tr>\n",
       "  </tbody>\n",
       "</table>\n",
       "</div>"
      ]
     },
     "execution_count": 3,
     "metadata": {},
     "output_type": "execute_result"
    }
   ],
   "execution_count": 3
  },
  {
   "cell_type": "code",
   "source": "df_news.describe()",
   "metadata": {
    "trusted": true,
    "execution": {
     "iopub.status.busy": "2024-12-18T13:54:47.409167Z",
     "iopub.execute_input": "2024-12-18T13:54:47.409480Z",
     "iopub.status.idle": "2024-12-18T13:54:47.438203Z",
     "shell.execute_reply.started": "2024-12-18T13:54:47.409452Z",
     "shell.execute_reply": "2024-12-18T13:54:47.436854Z"
    },
    "ExecuteTime": {
     "end_time": "2024-12-18T14:38:59.192121Z",
     "start_time": "2024-12-18T14:38:59.030967Z"
    }
   },
   "outputs": [
    {
     "data": {
      "text/plain": [
       "          tweet_num          real\n",
       "count  23196.000000  23196.000000\n",
       "mean      88.956803      0.751897\n",
       "std      488.694592      0.431921\n",
       "min        0.000000      0.000000\n",
       "25%       11.000000      1.000000\n",
       "50%       37.000000      1.000000\n",
       "75%       65.000000      1.000000\n",
       "max    29060.000000      1.000000"
      ],
      "text/html": [
       "<div>\n",
       "<style scoped>\n",
       "    .dataframe tbody tr th:only-of-type {\n",
       "        vertical-align: middle;\n",
       "    }\n",
       "\n",
       "    .dataframe tbody tr th {\n",
       "        vertical-align: top;\n",
       "    }\n",
       "\n",
       "    .dataframe thead th {\n",
       "        text-align: right;\n",
       "    }\n",
       "</style>\n",
       "<table border=\"1\" class=\"dataframe\">\n",
       "  <thead>\n",
       "    <tr style=\"text-align: right;\">\n",
       "      <th></th>\n",
       "      <th>tweet_num</th>\n",
       "      <th>real</th>\n",
       "    </tr>\n",
       "  </thead>\n",
       "  <tbody>\n",
       "    <tr>\n",
       "      <th>count</th>\n",
       "      <td>23196.000000</td>\n",
       "      <td>23196.000000</td>\n",
       "    </tr>\n",
       "    <tr>\n",
       "      <th>mean</th>\n",
       "      <td>88.956803</td>\n",
       "      <td>0.751897</td>\n",
       "    </tr>\n",
       "    <tr>\n",
       "      <th>std</th>\n",
       "      <td>488.694592</td>\n",
       "      <td>0.431921</td>\n",
       "    </tr>\n",
       "    <tr>\n",
       "      <th>min</th>\n",
       "      <td>0.000000</td>\n",
       "      <td>0.000000</td>\n",
       "    </tr>\n",
       "    <tr>\n",
       "      <th>25%</th>\n",
       "      <td>11.000000</td>\n",
       "      <td>1.000000</td>\n",
       "    </tr>\n",
       "    <tr>\n",
       "      <th>50%</th>\n",
       "      <td>37.000000</td>\n",
       "      <td>1.000000</td>\n",
       "    </tr>\n",
       "    <tr>\n",
       "      <th>75%</th>\n",
       "      <td>65.000000</td>\n",
       "      <td>1.000000</td>\n",
       "    </tr>\n",
       "    <tr>\n",
       "      <th>max</th>\n",
       "      <td>29060.000000</td>\n",
       "      <td>1.000000</td>\n",
       "    </tr>\n",
       "  </tbody>\n",
       "</table>\n",
       "</div>"
      ]
     },
     "execution_count": 4,
     "metadata": {},
     "output_type": "execute_result"
    }
   ],
   "execution_count": 4
  },
  {
   "cell_type": "code",
   "source": "df_news.isnull().sum()",
   "metadata": {
    "trusted": true,
    "execution": {
     "iopub.status.busy": "2024-12-18T13:54:47.439557Z",
     "iopub.execute_input": "2024-12-18T13:54:47.440067Z",
     "iopub.status.idle": "2024-12-18T13:54:47.454593Z",
     "shell.execute_reply.started": "2024-12-18T13:54:47.439998Z",
     "shell.execute_reply": "2024-12-18T13:54:47.453286Z"
    },
    "ExecuteTime": {
     "end_time": "2024-12-18T14:39:00.335613Z",
     "start_time": "2024-12-18T14:39:00.133007Z"
    }
   },
   "outputs": [
    {
     "data": {
      "text/plain": [
       "title              0\n",
       "news_url         330\n",
       "source_domain    330\n",
       "tweet_num          0\n",
       "real               0\n",
       "dtype: int64"
      ]
     },
     "execution_count": 5,
     "metadata": {},
     "output_type": "execute_result"
    }
   ],
   "execution_count": 5
  },
  {
   "cell_type": "code",
   "source": "clean_news = df_news.dropna()\ndf_news.isnull().sum()",
   "metadata": {
    "trusted": true,
    "execution": {
     "iopub.status.busy": "2024-12-18T13:54:47.456206Z",
     "iopub.execute_input": "2024-12-18T13:54:47.456659Z",
     "iopub.status.idle": "2024-12-18T13:54:47.482117Z",
     "shell.execute_reply.started": "2024-12-18T13:54:47.456611Z",
     "shell.execute_reply": "2024-12-18T13:54:47.480940Z"
    },
    "ExecuteTime": {
     "end_time": "2024-12-18T14:39:02.861008Z",
     "start_time": "2024-12-18T14:39:02.719049Z"
    }
   },
   "outputs": [
    {
     "data": {
      "text/plain": [
       "title              0\n",
       "news_url         330\n",
       "source_domain    330\n",
       "tweet_num          0\n",
       "real               0\n",
       "dtype: int64"
      ]
     },
     "execution_count": 6,
     "metadata": {},
     "output_type": "execute_result"
    }
   ],
   "execution_count": 6
  },
  {
   "cell_type": "code",
   "source": "df = df_news.sample(frac=1)",
   "metadata": {
    "trusted": true,
    "execution": {
     "iopub.status.busy": "2024-12-18T13:54:47.484603Z",
     "iopub.execute_input": "2024-12-18T13:54:47.485004Z",
     "iopub.status.idle": "2024-12-18T13:54:47.494757Z",
     "shell.execute_reply.started": "2024-12-18T13:54:47.484970Z",
     "shell.execute_reply": "2024-12-18T13:54:47.493327Z"
    },
    "ExecuteTime": {
     "end_time": "2024-12-18T14:39:03.953006Z",
     "start_time": "2024-12-18T14:39:03.936563Z"
    }
   },
   "outputs": [],
   "execution_count": 7
  },
  {
   "cell_type": "code",
   "source": "df = df.drop(['news_url', 'tweet_num', 'source_domain'], axis=1)",
   "metadata": {
    "trusted": true,
    "execution": {
     "iopub.status.busy": "2024-12-18T13:54:47.496356Z",
     "iopub.execute_input": "2024-12-18T13:54:47.496982Z",
     "iopub.status.idle": "2024-12-18T13:54:47.508735Z",
     "shell.execute_reply.started": "2024-12-18T13:54:47.496931Z",
     "shell.execute_reply": "2024-12-18T13:54:47.507423Z"
    },
    "ExecuteTime": {
     "end_time": "2024-12-18T14:39:06.790090Z",
     "start_time": "2024-12-18T14:39:06.767176Z"
    }
   },
   "outputs": [],
   "execution_count": 8
  },
  {
   "cell_type": "code",
   "source": "df",
   "metadata": {
    "trusted": true,
    "execution": {
     "iopub.status.busy": "2024-12-18T13:54:47.510377Z",
     "iopub.execute_input": "2024-12-18T13:54:47.510793Z",
     "iopub.status.idle": "2024-12-18T13:54:47.526464Z",
     "shell.execute_reply.started": "2024-12-18T13:54:47.510758Z",
     "shell.execute_reply": "2024-12-18T13:54:47.525266Z"
    },
    "ExecuteTime": {
     "end_time": "2024-12-18T14:39:25.142205Z",
     "start_time": "2024-12-18T14:39:25.125126Z"
    }
   },
   "outputs": [
    {
     "data": {
      "text/plain": [
       "                                                   title  real\n",
       "4545   Jimmy Kimmel, Gal Gadot, Lupita Nyong’o Crash ...     1\n",
       "930    Alexa Ray Joel slams online troll who called h...     1\n",
       "19465  Nick Jonas took a $2.75 subway ride to the fan...     1\n",
       "18929  Anna Faris’ Dad Reveals Truth Behind Shocking ...     0\n",
       "676    John Lewis, celebs react as ABC cancels ‘Rosea...     0\n",
       "...                                                  ...   ...\n",
       "8603   Kelly Rowland Wants a Second Boob Job Because ...     1\n",
       "19130  What Demi Lovato has said about sobriety and m...     1\n",
       "16040  Kelly Ripa Says Lola Consuelos Freaked Over a ...     1\n",
       "7126                                  Popular baby names     1\n",
       "17984  Ryan Reynolds Just Shut Down Blake Lively Spli...     0\n",
       "\n",
       "[23196 rows x 2 columns]"
      ],
      "text/html": [
       "<div>\n",
       "<style scoped>\n",
       "    .dataframe tbody tr th:only-of-type {\n",
       "        vertical-align: middle;\n",
       "    }\n",
       "\n",
       "    .dataframe tbody tr th {\n",
       "        vertical-align: top;\n",
       "    }\n",
       "\n",
       "    .dataframe thead th {\n",
       "        text-align: right;\n",
       "    }\n",
       "</style>\n",
       "<table border=\"1\" class=\"dataframe\">\n",
       "  <thead>\n",
       "    <tr style=\"text-align: right;\">\n",
       "      <th></th>\n",
       "      <th>title</th>\n",
       "      <th>real</th>\n",
       "    </tr>\n",
       "  </thead>\n",
       "  <tbody>\n",
       "    <tr>\n",
       "      <th>4545</th>\n",
       "      <td>Jimmy Kimmel, Gal Gadot, Lupita Nyong’o Crash ...</td>\n",
       "      <td>1</td>\n",
       "    </tr>\n",
       "    <tr>\n",
       "      <th>930</th>\n",
       "      <td>Alexa Ray Joel slams online troll who called h...</td>\n",
       "      <td>1</td>\n",
       "    </tr>\n",
       "    <tr>\n",
       "      <th>19465</th>\n",
       "      <td>Nick Jonas took a $2.75 subway ride to the fan...</td>\n",
       "      <td>1</td>\n",
       "    </tr>\n",
       "    <tr>\n",
       "      <th>18929</th>\n",
       "      <td>Anna Faris’ Dad Reveals Truth Behind Shocking ...</td>\n",
       "      <td>0</td>\n",
       "    </tr>\n",
       "    <tr>\n",
       "      <th>676</th>\n",
       "      <td>John Lewis, celebs react as ABC cancels ‘Rosea...</td>\n",
       "      <td>0</td>\n",
       "    </tr>\n",
       "    <tr>\n",
       "      <th>...</th>\n",
       "      <td>...</td>\n",
       "      <td>...</td>\n",
       "    </tr>\n",
       "    <tr>\n",
       "      <th>8603</th>\n",
       "      <td>Kelly Rowland Wants a Second Boob Job Because ...</td>\n",
       "      <td>1</td>\n",
       "    </tr>\n",
       "    <tr>\n",
       "      <th>19130</th>\n",
       "      <td>What Demi Lovato has said about sobriety and m...</td>\n",
       "      <td>1</td>\n",
       "    </tr>\n",
       "    <tr>\n",
       "      <th>16040</th>\n",
       "      <td>Kelly Ripa Says Lola Consuelos Freaked Over a ...</td>\n",
       "      <td>1</td>\n",
       "    </tr>\n",
       "    <tr>\n",
       "      <th>7126</th>\n",
       "      <td>Popular baby names</td>\n",
       "      <td>1</td>\n",
       "    </tr>\n",
       "    <tr>\n",
       "      <th>17984</th>\n",
       "      <td>Ryan Reynolds Just Shut Down Blake Lively Spli...</td>\n",
       "      <td>0</td>\n",
       "    </tr>\n",
       "  </tbody>\n",
       "</table>\n",
       "<p>23196 rows × 2 columns</p>\n",
       "</div>"
      ]
     },
     "execution_count": 9,
     "metadata": {},
     "output_type": "execute_result"
    }
   ],
   "execution_count": 9
  },
  {
   "cell_type": "code",
   "source": "df.reset_index(inplace=True)\ndf.drop(['index'], axis=1, inplace=True)",
   "metadata": {
    "trusted": true,
    "execution": {
     "iopub.status.busy": "2024-12-18T13:54:47.527829Z",
     "iopub.execute_input": "2024-12-18T13:54:47.528206Z",
     "iopub.status.idle": "2024-12-18T13:54:47.540465Z",
     "shell.execute_reply.started": "2024-12-18T13:54:47.528173Z",
     "shell.execute_reply": "2024-12-18T13:54:47.539355Z"
    },
    "ExecuteTime": {
     "end_time": "2024-12-18T14:39:26.391844Z",
     "start_time": "2024-12-18T14:39:26.381334Z"
    }
   },
   "outputs": [],
   "execution_count": 10
  },
  {
   "cell_type": "code",
   "source": "df.shape",
   "metadata": {
    "trusted": true,
    "execution": {
     "iopub.status.busy": "2024-12-18T13:54:47.542075Z",
     "iopub.execute_input": "2024-12-18T13:54:47.542534Z",
     "iopub.status.idle": "2024-12-18T13:54:47.554433Z",
     "shell.execute_reply.started": "2024-12-18T13:54:47.542486Z",
     "shell.execute_reply": "2024-12-18T13:54:47.553104Z"
    },
    "ExecuteTime": {
     "end_time": "2024-12-18T14:39:27.517874Z",
     "start_time": "2024-12-18T14:39:27.505317Z"
    }
   },
   "outputs": [
    {
     "data": {
      "text/plain": [
       "(23196, 2)"
      ]
     },
     "execution_count": 11,
     "metadata": {},
     "output_type": "execute_result"
    }
   ],
   "execution_count": 11
  },
  {
   "cell_type": "code",
   "source": "print(df['real'].value_counts())",
   "metadata": {
    "trusted": true,
    "execution": {
     "iopub.status.busy": "2024-12-18T13:54:47.556824Z",
     "iopub.execute_input": "2024-12-18T13:54:47.557250Z",
     "iopub.status.idle": "2024-12-18T13:54:47.565053Z",
     "shell.execute_reply.started": "2024-12-18T13:54:47.557211Z",
     "shell.execute_reply": "2024-12-18T13:54:47.563761Z"
    },
    "ExecuteTime": {
     "end_time": "2024-12-18T14:39:27.938187Z",
     "start_time": "2024-12-18T14:39:27.921150Z"
    }
   },
   "outputs": [
    {
     "name": "stdout",
     "output_type": "stream",
     "text": [
      "real\n",
      "1    17441\n",
      "0     5755\n",
      "Name: count, dtype: int64\n"
     ]
    }
   ],
   "execution_count": 12
  },
  {
   "cell_type": "code",
   "source": "df['title'] = df['title'].str.lower().str.replace('[^\\w\\s]', '')",
   "metadata": {
    "trusted": true,
    "execution": {
     "iopub.status.busy": "2024-12-18T13:54:47.566572Z",
     "iopub.execute_input": "2024-12-18T13:54:47.567064Z",
     "iopub.status.idle": "2024-12-18T13:54:47.604113Z",
     "shell.execute_reply.started": "2024-12-18T13:54:47.566996Z",
     "shell.execute_reply": "2024-12-18T13:54:47.602841Z"
    },
    "ExecuteTime": {
     "end_time": "2024-12-18T14:39:33.942945Z",
     "start_time": "2024-12-18T14:39:33.902524Z"
    }
   },
   "outputs": [
    {
     "name": "stderr",
     "output_type": "stream",
     "text": [
      "<>:1: SyntaxWarning: invalid escape sequence '\\w'\n",
      "<>:1: SyntaxWarning: invalid escape sequence '\\w'\n",
      "C:\\Users\\Rafli\\AppData\\Local\\Temp\\ipykernel_14680\\1093656973.py:1: SyntaxWarning: invalid escape sequence '\\w'\n",
      "  df['title'] = df['title'].str.lower().str.replace('[^\\w\\s]', '')\n"
     ]
    }
   ],
   "execution_count": 14
  },
  {
   "cell_type": "markdown",
   "source": "**TRAINING AND MODEL DATA**",
   "metadata": {}
  },
  {
   "cell_type": "code",
   "source": "from sklearn.naive_bayes import MultinomialNB\nfrom sklearn.model_selection import train_test_split\nfrom sklearn.feature_extraction.text import TfidfVectorizer\nfrom sklearn.metrics import accuracy_score, confusion_matrix\nfrom sklearn.linear_model import LogisticRegression",
   "metadata": {
    "trusted": true,
    "execution": {
     "iopub.status.busy": "2024-12-18T13:54:47.607412Z",
     "iopub.execute_input": "2024-12-18T13:54:47.608347Z",
     "iopub.status.idle": "2024-12-18T13:54:47.613417Z",
     "shell.execute_reply.started": "2024-12-18T13:54:47.608299Z",
     "shell.execute_reply": "2024-12-18T13:54:47.612323Z"
    },
    "ExecuteTime": {
     "end_time": "2024-12-18T14:39:39.651082Z",
     "start_time": "2024-12-18T14:39:37.539153Z"
    }
   },
   "outputs": [],
   "execution_count": 15
  },
  {
   "cell_type": "code",
   "source": "!pip install nltk\nimport nltk\nnltk.download('stopwords')\n\nfrom nltk.corpus import stopwords\nfrom nltk.stem import SnowballStemmer\nimport re\n\nimport re\nimport string",
   "metadata": {
    "trusted": true,
    "execution": {
     "iopub.status.busy": "2024-12-18T13:54:47.615021Z",
     "iopub.execute_input": "2024-12-18T13:54:47.615499Z",
     "iopub.status.idle": "2024-12-18T13:54:57.789518Z",
     "shell.execute_reply.started": "2024-12-18T13:54:47.615452Z",
     "shell.execute_reply": "2024-12-18T13:54:57.788143Z"
    },
    "ExecuteTime": {
     "end_time": "2024-12-18T14:40:06.752815Z",
     "start_time": "2024-12-18T14:39:41.252469Z"
    }
   },
   "outputs": [
    {
     "name": "stdout",
     "output_type": "stream",
     "text": [
      "Collecting nltk\n",
      "  Downloading nltk-3.9.1-py3-none-any.whl.metadata (2.9 kB)\n",
      "Requirement already satisfied: click in c:\\users\\rafli\\miniconda3\\lib\\site-packages (from nltk) (8.1.7)\n",
      "Requirement already satisfied: joblib in c:\\users\\rafli\\miniconda3\\lib\\site-packages (from nltk) (1.4.2)\n",
      "Collecting regex>=2021.8.3 (from nltk)\n",
      "  Downloading regex-2024.11.6-cp312-cp312-win_amd64.whl.metadata (41 kB)\n",
      "     ---------------------------------------- 0.0/41.5 kB ? eta -:--:--\n",
      "     ---------------------------------------- 0.0/41.5 kB ? eta -:--:--\n",
      "     --------- ------------------------------ 10.2/41.5 kB ? eta -:--:--\n",
      "     ---------------------------- --------- 30.7/41.5 kB 262.6 kB/s eta 0:00:01\n",
      "     -------------------------------------  41.0/41.5 kB 326.8 kB/s eta 0:00:01\n",
      "     -------------------------------------- 41.5/41.5 kB 284.6 kB/s eta 0:00:00\n",
      "Requirement already satisfied: tqdm in c:\\users\\rafli\\miniconda3\\lib\\site-packages (from nltk) (4.65.0)\n",
      "Requirement already satisfied: colorama in c:\\users\\rafli\\appdata\\roaming\\python\\python312\\site-packages (from click->nltk) (0.4.6)\n",
      "Downloading nltk-3.9.1-py3-none-any.whl (1.5 MB)\n",
      "   ---------------------------------------- 0.0/1.5 MB ? eta -:--:--\n",
      "   - -------------------------------------- 0.0/1.5 MB 960.0 kB/s eta 0:00:02\n",
      "   -- ------------------------------------- 0.1/1.5 MB 1.7 MB/s eta 0:00:01\n",
      "   ----- ---------------------------------- 0.2/1.5 MB 1.5 MB/s eta 0:00:01\n",
      "   ------- -------------------------------- 0.3/1.5 MB 1.7 MB/s eta 0:00:01\n",
      "   -------- ------------------------------- 0.3/1.5 MB 1.6 MB/s eta 0:00:01\n",
      "   ----------- ---------------------------- 0.4/1.5 MB 1.7 MB/s eta 0:00:01\n",
      "   ------------- -------------------------- 0.5/1.5 MB 1.7 MB/s eta 0:00:01\n",
      "   -------------- ------------------------- 0.6/1.5 MB 1.6 MB/s eta 0:00:01\n",
      "   ---------------- ----------------------- 0.6/1.5 MB 1.5 MB/s eta 0:00:01\n",
      "   ------------------ --------------------- 0.7/1.5 MB 1.5 MB/s eta 0:00:01\n",
      "   ------------------- -------------------- 0.7/1.5 MB 1.5 MB/s eta 0:00:01\n",
      "   -------------------- ------------------- 0.8/1.5 MB 1.5 MB/s eta 0:00:01\n",
      "   ---------------------- ----------------- 0.8/1.5 MB 1.5 MB/s eta 0:00:01\n",
      "   ----------------------- ---------------- 0.9/1.5 MB 1.5 MB/s eta 0:00:01\n",
      "   ------------------------- -------------- 1.0/1.5 MB 1.5 MB/s eta 0:00:01\n",
      "   --------------------------- ------------ 1.0/1.5 MB 1.5 MB/s eta 0:00:01\n",
      "   ----------------------------- ---------- 1.1/1.5 MB 1.5 MB/s eta 0:00:01\n",
      "   ------------------------------- -------- 1.2/1.5 MB 1.5 MB/s eta 0:00:01\n",
      "   --------------------------------- ------ 1.3/1.5 MB 1.5 MB/s eta 0:00:01\n",
      "   ----------------------------------- ---- 1.3/1.5 MB 1.5 MB/s eta 0:00:01\n",
      "   ------------------------------------- -- 1.4/1.5 MB 1.5 MB/s eta 0:00:01\n",
      "   ---------------------------------------  1.5/1.5 MB 1.5 MB/s eta 0:00:01\n",
      "   ---------------------------------------- 1.5/1.5 MB 1.5 MB/s eta 0:00:00\n",
      "Downloading regex-2024.11.6-cp312-cp312-win_amd64.whl (273 kB)\n",
      "   ---------------------------------------- 0.0/273.6 kB ? eta -:--:--\n",
      "   ----------- ---------------------------- 81.9/273.6 kB 2.2 MB/s eta 0:00:01\n",
      "   ----------------------- ---------------- 163.8/273.6 kB 2.0 MB/s eta 0:00:01\n",
      "   ------------------------------- -------- 215.0/273.6 kB 1.9 MB/s eta 0:00:01\n",
      "   -------------------------------------- - 266.2/273.6 kB 1.8 MB/s eta 0:00:01\n",
      "   ---------------------------------------- 273.6/273.6 kB 1.5 MB/s eta 0:00:00\n",
      "Installing collected packages: regex, nltk\n",
      "Successfully installed nltk-3.9.1 regex-2024.11.6\n"
     ]
    },
    {
     "name": "stderr",
     "output_type": "stream",
     "text": [
      "[nltk_data] Downloading package stopwords to\n",
      "[nltk_data]     C:\\Users\\Rafli\\AppData\\Roaming\\nltk_data...\n",
      "[nltk_data]   Unzipping corpora\\stopwords.zip.\n"
     ]
    }
   ],
   "execution_count": 16
  },
  {
   "cell_type": "code",
   "source": "stemmer = SnowballStemmer(\"english\")\nstop_words = set(stopwords.words('english'))\n\ndef preprocess(text):\n    text = text.lower()\n    text = re.sub(r'\\[-.*?\\]', '', text)\n    text = re.sub(r'\\|\\|', ' ', text)\n    text = re.sub(r'https?://\\S+|www\\.\\S+', '', text)\n    text = re.sub(r'<.*?>+', '', text)\n    text = re.sub(f\"[{re.escape(string.punctuation)}]\", '', text)\n    text = re.sub(r'\\n', ' ', text)\n    text = re.sub(r'\\w*\\d\\w*', '', text)\n    return text\n\ndf['title'] = df['title'].apply(preprocess)",
   "metadata": {
    "trusted": true,
    "execution": {
     "iopub.status.busy": "2024-12-18T13:54:57.791289Z",
     "iopub.execute_input": "2024-12-18T13:54:57.791642Z",
     "iopub.status.idle": "2024-12-18T13:54:58.278172Z",
     "shell.execute_reply.started": "2024-12-18T13:54:57.791607Z",
     "shell.execute_reply": "2024-12-18T13:54:58.277052Z"
    },
    "ExecuteTime": {
     "end_time": "2024-12-18T14:40:38.270230Z",
     "start_time": "2024-12-18T14:40:36.877379Z"
    }
   },
   "outputs": [],
   "execution_count": 17
  },
  {
   "cell_type": "code",
   "source": "X = df['title']\ny = df['real']\n\nX_train, X_test, y_train, y_test = train_test_split(X, y, test_size=0.2, random_state=42)",
   "metadata": {
    "trusted": true,
    "execution": {
     "iopub.status.busy": "2024-12-18T13:54:58.279553Z",
     "iopub.execute_input": "2024-12-18T13:54:58.279938Z",
     "iopub.status.idle": "2024-12-18T13:54:58.293923Z",
     "shell.execute_reply.started": "2024-12-18T13:54:58.279905Z",
     "shell.execute_reply": "2024-12-18T13:54:58.292730Z"
    },
    "ExecuteTime": {
     "end_time": "2024-12-18T14:40:38.987422Z",
     "start_time": "2024-12-18T14:40:38.971962Z"
    }
   },
   "outputs": [],
   "execution_count": 18
  },
  {
   "cell_type": "markdown",
   "source": "**USE TfidfVectorizer FOR GET ACCURACY**",
   "metadata": {}
  },
  {
   "cell_type": "code",
   "source": "vectorizer = TfidfVectorizer()\nX_train_tfidf = vectorizer.fit_transform(X_train)\nX_test_tfidf = vectorizer.transform(X_test)",
   "metadata": {
    "trusted": true,
    "execution": {
     "iopub.status.busy": "2024-12-18T13:54:58.295420Z",
     "iopub.execute_input": "2024-12-18T13:54:58.295818Z",
     "iopub.status.idle": "2024-12-18T13:54:58.649940Z",
     "shell.execute_reply.started": "2024-12-18T13:54:58.295771Z",
     "shell.execute_reply": "2024-12-18T13:54:58.648986Z"
    },
    "ExecuteTime": {
     "end_time": "2024-12-18T14:40:42.311367Z",
     "start_time": "2024-12-18T14:40:40.746787Z"
    }
   },
   "outputs": [],
   "execution_count": 19
  },
  {
   "cell_type": "code",
   "source": "classifier = MultinomialNB()\nclassifier.fit(X_train_tfidf, y_train)\n\ny_pred = classifier.predict(X_test_tfidf)\n\naccuracy = accuracy_score(y_test, y_pred)\nprint(f\"Accuracy: {accuracy*100:.2f}%\")",
   "metadata": {
    "trusted": true,
    "execution": {
     "iopub.status.busy": "2024-12-18T13:54:58.652537Z",
     "iopub.execute_input": "2024-12-18T13:54:58.652999Z",
     "iopub.status.idle": "2024-12-18T13:54:58.670012Z",
     "shell.execute_reply.started": "2024-12-18T13:54:58.652954Z",
     "shell.execute_reply": "2024-12-18T13:54:58.668910Z"
    },
    "ExecuteTime": {
     "end_time": "2024-12-18T14:40:43.095109Z",
     "start_time": "2024-12-18T14:40:43.065448Z"
    }
   },
   "outputs": [
    {
     "name": "stdout",
     "output_type": "stream",
     "text": [
      "Accuracy: 82.63%\n"
     ]
    }
   ],
   "execution_count": 20
  },
  {
   "cell_type": "markdown",
   "source": "**USE LogisticRegression FOR GET ACCURACY**",
   "metadata": {}
  },
  {
   "cell_type": "code",
   "source": "LR = LogisticRegression()\nLR.fit(X_train_tfidf, y_train)",
   "metadata": {
    "trusted": true,
    "execution": {
     "iopub.status.busy": "2024-12-18T13:54:58.671705Z",
     "iopub.execute_input": "2024-12-18T13:54:58.672104Z",
     "iopub.status.idle": "2024-12-18T13:55:04.569533Z",
     "shell.execute_reply.started": "2024-12-18T13:54:58.672065Z",
     "shell.execute_reply": "2024-12-18T13:55:04.567688Z"
    },
    "ExecuteTime": {
     "end_time": "2024-12-18T14:40:47.609333Z",
     "start_time": "2024-12-18T14:40:46.980672Z"
    }
   },
   "outputs": [
    {
     "data": {
      "text/plain": [
       "LogisticRegression()"
      ],
      "text/html": [
       "<style>#sk-container-id-1 {\n",
       "  /* Definition of color scheme common for light and dark mode */\n",
       "  --sklearn-color-text: black;\n",
       "  --sklearn-color-line: gray;\n",
       "  /* Definition of color scheme for unfitted estimators */\n",
       "  --sklearn-color-unfitted-level-0: #fff5e6;\n",
       "  --sklearn-color-unfitted-level-1: #f6e4d2;\n",
       "  --sklearn-color-unfitted-level-2: #ffe0b3;\n",
       "  --sklearn-color-unfitted-level-3: chocolate;\n",
       "  /* Definition of color scheme for fitted estimators */\n",
       "  --sklearn-color-fitted-level-0: #f0f8ff;\n",
       "  --sklearn-color-fitted-level-1: #d4ebff;\n",
       "  --sklearn-color-fitted-level-2: #b3dbfd;\n",
       "  --sklearn-color-fitted-level-3: cornflowerblue;\n",
       "\n",
       "  /* Specific color for light theme */\n",
       "  --sklearn-color-text-on-default-background: var(--sg-text-color, var(--theme-code-foreground, var(--jp-content-font-color1, black)));\n",
       "  --sklearn-color-background: var(--sg-background-color, var(--theme-background, var(--jp-layout-color0, white)));\n",
       "  --sklearn-color-border-box: var(--sg-text-color, var(--theme-code-foreground, var(--jp-content-font-color1, black)));\n",
       "  --sklearn-color-icon: #696969;\n",
       "\n",
       "  @media (prefers-color-scheme: dark) {\n",
       "    /* Redefinition of color scheme for dark theme */\n",
       "    --sklearn-color-text-on-default-background: var(--sg-text-color, var(--theme-code-foreground, var(--jp-content-font-color1, white)));\n",
       "    --sklearn-color-background: var(--sg-background-color, var(--theme-background, var(--jp-layout-color0, #111)));\n",
       "    --sklearn-color-border-box: var(--sg-text-color, var(--theme-code-foreground, var(--jp-content-font-color1, white)));\n",
       "    --sklearn-color-icon: #878787;\n",
       "  }\n",
       "}\n",
       "\n",
       "#sk-container-id-1 {\n",
       "  color: var(--sklearn-color-text);\n",
       "}\n",
       "\n",
       "#sk-container-id-1 pre {\n",
       "  padding: 0;\n",
       "}\n",
       "\n",
       "#sk-container-id-1 input.sk-hidden--visually {\n",
       "  border: 0;\n",
       "  clip: rect(1px 1px 1px 1px);\n",
       "  clip: rect(1px, 1px, 1px, 1px);\n",
       "  height: 1px;\n",
       "  margin: -1px;\n",
       "  overflow: hidden;\n",
       "  padding: 0;\n",
       "  position: absolute;\n",
       "  width: 1px;\n",
       "}\n",
       "\n",
       "#sk-container-id-1 div.sk-dashed-wrapped {\n",
       "  border: 1px dashed var(--sklearn-color-line);\n",
       "  margin: 0 0.4em 0.5em 0.4em;\n",
       "  box-sizing: border-box;\n",
       "  padding-bottom: 0.4em;\n",
       "  background-color: var(--sklearn-color-background);\n",
       "}\n",
       "\n",
       "#sk-container-id-1 div.sk-container {\n",
       "  /* jupyter's `normalize.less` sets `[hidden] { display: none; }`\n",
       "     but bootstrap.min.css set `[hidden] { display: none !important; }`\n",
       "     so we also need the `!important` here to be able to override the\n",
       "     default hidden behavior on the sphinx rendered scikit-learn.org.\n",
       "     See: https://github.com/scikit-learn/scikit-learn/issues/21755 */\n",
       "  display: inline-block !important;\n",
       "  position: relative;\n",
       "}\n",
       "\n",
       "#sk-container-id-1 div.sk-text-repr-fallback {\n",
       "  display: none;\n",
       "}\n",
       "\n",
       "div.sk-parallel-item,\n",
       "div.sk-serial,\n",
       "div.sk-item {\n",
       "  /* draw centered vertical line to link estimators */\n",
       "  background-image: linear-gradient(var(--sklearn-color-text-on-default-background), var(--sklearn-color-text-on-default-background));\n",
       "  background-size: 2px 100%;\n",
       "  background-repeat: no-repeat;\n",
       "  background-position: center center;\n",
       "}\n",
       "\n",
       "/* Parallel-specific style estimator block */\n",
       "\n",
       "#sk-container-id-1 div.sk-parallel-item::after {\n",
       "  content: \"\";\n",
       "  width: 100%;\n",
       "  border-bottom: 2px solid var(--sklearn-color-text-on-default-background);\n",
       "  flex-grow: 1;\n",
       "}\n",
       "\n",
       "#sk-container-id-1 div.sk-parallel {\n",
       "  display: flex;\n",
       "  align-items: stretch;\n",
       "  justify-content: center;\n",
       "  background-color: var(--sklearn-color-background);\n",
       "  position: relative;\n",
       "}\n",
       "\n",
       "#sk-container-id-1 div.sk-parallel-item {\n",
       "  display: flex;\n",
       "  flex-direction: column;\n",
       "}\n",
       "\n",
       "#sk-container-id-1 div.sk-parallel-item:first-child::after {\n",
       "  align-self: flex-end;\n",
       "  width: 50%;\n",
       "}\n",
       "\n",
       "#sk-container-id-1 div.sk-parallel-item:last-child::after {\n",
       "  align-self: flex-start;\n",
       "  width: 50%;\n",
       "}\n",
       "\n",
       "#sk-container-id-1 div.sk-parallel-item:only-child::after {\n",
       "  width: 0;\n",
       "}\n",
       "\n",
       "/* Serial-specific style estimator block */\n",
       "\n",
       "#sk-container-id-1 div.sk-serial {\n",
       "  display: flex;\n",
       "  flex-direction: column;\n",
       "  align-items: center;\n",
       "  background-color: var(--sklearn-color-background);\n",
       "  padding-right: 1em;\n",
       "  padding-left: 1em;\n",
       "}\n",
       "\n",
       "\n",
       "/* Toggleable style: style used for estimator/Pipeline/ColumnTransformer box that is\n",
       "clickable and can be expanded/collapsed.\n",
       "- Pipeline and ColumnTransformer use this feature and define the default style\n",
       "- Estimators will overwrite some part of the style using the `sk-estimator` class\n",
       "*/\n",
       "\n",
       "/* Pipeline and ColumnTransformer style (default) */\n",
       "\n",
       "#sk-container-id-1 div.sk-toggleable {\n",
       "  /* Default theme specific background. It is overwritten whether we have a\n",
       "  specific estimator or a Pipeline/ColumnTransformer */\n",
       "  background-color: var(--sklearn-color-background);\n",
       "}\n",
       "\n",
       "/* Toggleable label */\n",
       "#sk-container-id-1 label.sk-toggleable__label {\n",
       "  cursor: pointer;\n",
       "  display: block;\n",
       "  width: 100%;\n",
       "  margin-bottom: 0;\n",
       "  padding: 0.5em;\n",
       "  box-sizing: border-box;\n",
       "  text-align: center;\n",
       "}\n",
       "\n",
       "#sk-container-id-1 label.sk-toggleable__label-arrow:before {\n",
       "  /* Arrow on the left of the label */\n",
       "  content: \"▸\";\n",
       "  float: left;\n",
       "  margin-right: 0.25em;\n",
       "  color: var(--sklearn-color-icon);\n",
       "}\n",
       "\n",
       "#sk-container-id-1 label.sk-toggleable__label-arrow:hover:before {\n",
       "  color: var(--sklearn-color-text);\n",
       "}\n",
       "\n",
       "/* Toggleable content - dropdown */\n",
       "\n",
       "#sk-container-id-1 div.sk-toggleable__content {\n",
       "  max-height: 0;\n",
       "  max-width: 0;\n",
       "  overflow: hidden;\n",
       "  text-align: left;\n",
       "  /* unfitted */\n",
       "  background-color: var(--sklearn-color-unfitted-level-0);\n",
       "}\n",
       "\n",
       "#sk-container-id-1 div.sk-toggleable__content.fitted {\n",
       "  /* fitted */\n",
       "  background-color: var(--sklearn-color-fitted-level-0);\n",
       "}\n",
       "\n",
       "#sk-container-id-1 div.sk-toggleable__content pre {\n",
       "  margin: 0.2em;\n",
       "  border-radius: 0.25em;\n",
       "  color: var(--sklearn-color-text);\n",
       "  /* unfitted */\n",
       "  background-color: var(--sklearn-color-unfitted-level-0);\n",
       "}\n",
       "\n",
       "#sk-container-id-1 div.sk-toggleable__content.fitted pre {\n",
       "  /* unfitted */\n",
       "  background-color: var(--sklearn-color-fitted-level-0);\n",
       "}\n",
       "\n",
       "#sk-container-id-1 input.sk-toggleable__control:checked~div.sk-toggleable__content {\n",
       "  /* Expand drop-down */\n",
       "  max-height: 200px;\n",
       "  max-width: 100%;\n",
       "  overflow: auto;\n",
       "}\n",
       "\n",
       "#sk-container-id-1 input.sk-toggleable__control:checked~label.sk-toggleable__label-arrow:before {\n",
       "  content: \"▾\";\n",
       "}\n",
       "\n",
       "/* Pipeline/ColumnTransformer-specific style */\n",
       "\n",
       "#sk-container-id-1 div.sk-label input.sk-toggleable__control:checked~label.sk-toggleable__label {\n",
       "  color: var(--sklearn-color-text);\n",
       "  background-color: var(--sklearn-color-unfitted-level-2);\n",
       "}\n",
       "\n",
       "#sk-container-id-1 div.sk-label.fitted input.sk-toggleable__control:checked~label.sk-toggleable__label {\n",
       "  background-color: var(--sklearn-color-fitted-level-2);\n",
       "}\n",
       "\n",
       "/* Estimator-specific style */\n",
       "\n",
       "/* Colorize estimator box */\n",
       "#sk-container-id-1 div.sk-estimator input.sk-toggleable__control:checked~label.sk-toggleable__label {\n",
       "  /* unfitted */\n",
       "  background-color: var(--sklearn-color-unfitted-level-2);\n",
       "}\n",
       "\n",
       "#sk-container-id-1 div.sk-estimator.fitted input.sk-toggleable__control:checked~label.sk-toggleable__label {\n",
       "  /* fitted */\n",
       "  background-color: var(--sklearn-color-fitted-level-2);\n",
       "}\n",
       "\n",
       "#sk-container-id-1 div.sk-label label.sk-toggleable__label,\n",
       "#sk-container-id-1 div.sk-label label {\n",
       "  /* The background is the default theme color */\n",
       "  color: var(--sklearn-color-text-on-default-background);\n",
       "}\n",
       "\n",
       "/* On hover, darken the color of the background */\n",
       "#sk-container-id-1 div.sk-label:hover label.sk-toggleable__label {\n",
       "  color: var(--sklearn-color-text);\n",
       "  background-color: var(--sklearn-color-unfitted-level-2);\n",
       "}\n",
       "\n",
       "/* Label box, darken color on hover, fitted */\n",
       "#sk-container-id-1 div.sk-label.fitted:hover label.sk-toggleable__label.fitted {\n",
       "  color: var(--sklearn-color-text);\n",
       "  background-color: var(--sklearn-color-fitted-level-2);\n",
       "}\n",
       "\n",
       "/* Estimator label */\n",
       "\n",
       "#sk-container-id-1 div.sk-label label {\n",
       "  font-family: monospace;\n",
       "  font-weight: bold;\n",
       "  display: inline-block;\n",
       "  line-height: 1.2em;\n",
       "}\n",
       "\n",
       "#sk-container-id-1 div.sk-label-container {\n",
       "  text-align: center;\n",
       "}\n",
       "\n",
       "/* Estimator-specific */\n",
       "#sk-container-id-1 div.sk-estimator {\n",
       "  font-family: monospace;\n",
       "  border: 1px dotted var(--sklearn-color-border-box);\n",
       "  border-radius: 0.25em;\n",
       "  box-sizing: border-box;\n",
       "  margin-bottom: 0.5em;\n",
       "  /* unfitted */\n",
       "  background-color: var(--sklearn-color-unfitted-level-0);\n",
       "}\n",
       "\n",
       "#sk-container-id-1 div.sk-estimator.fitted {\n",
       "  /* fitted */\n",
       "  background-color: var(--sklearn-color-fitted-level-0);\n",
       "}\n",
       "\n",
       "/* on hover */\n",
       "#sk-container-id-1 div.sk-estimator:hover {\n",
       "  /* unfitted */\n",
       "  background-color: var(--sklearn-color-unfitted-level-2);\n",
       "}\n",
       "\n",
       "#sk-container-id-1 div.sk-estimator.fitted:hover {\n",
       "  /* fitted */\n",
       "  background-color: var(--sklearn-color-fitted-level-2);\n",
       "}\n",
       "\n",
       "/* Specification for estimator info (e.g. \"i\" and \"?\") */\n",
       "\n",
       "/* Common style for \"i\" and \"?\" */\n",
       "\n",
       ".sk-estimator-doc-link,\n",
       "a:link.sk-estimator-doc-link,\n",
       "a:visited.sk-estimator-doc-link {\n",
       "  float: right;\n",
       "  font-size: smaller;\n",
       "  line-height: 1em;\n",
       "  font-family: monospace;\n",
       "  background-color: var(--sklearn-color-background);\n",
       "  border-radius: 1em;\n",
       "  height: 1em;\n",
       "  width: 1em;\n",
       "  text-decoration: none !important;\n",
       "  margin-left: 1ex;\n",
       "  /* unfitted */\n",
       "  border: var(--sklearn-color-unfitted-level-1) 1pt solid;\n",
       "  color: var(--sklearn-color-unfitted-level-1);\n",
       "}\n",
       "\n",
       ".sk-estimator-doc-link.fitted,\n",
       "a:link.sk-estimator-doc-link.fitted,\n",
       "a:visited.sk-estimator-doc-link.fitted {\n",
       "  /* fitted */\n",
       "  border: var(--sklearn-color-fitted-level-1) 1pt solid;\n",
       "  color: var(--sklearn-color-fitted-level-1);\n",
       "}\n",
       "\n",
       "/* On hover */\n",
       "div.sk-estimator:hover .sk-estimator-doc-link:hover,\n",
       ".sk-estimator-doc-link:hover,\n",
       "div.sk-label-container:hover .sk-estimator-doc-link:hover,\n",
       ".sk-estimator-doc-link:hover {\n",
       "  /* unfitted */\n",
       "  background-color: var(--sklearn-color-unfitted-level-3);\n",
       "  color: var(--sklearn-color-background);\n",
       "  text-decoration: none;\n",
       "}\n",
       "\n",
       "div.sk-estimator.fitted:hover .sk-estimator-doc-link.fitted:hover,\n",
       ".sk-estimator-doc-link.fitted:hover,\n",
       "div.sk-label-container:hover .sk-estimator-doc-link.fitted:hover,\n",
       ".sk-estimator-doc-link.fitted:hover {\n",
       "  /* fitted */\n",
       "  background-color: var(--sklearn-color-fitted-level-3);\n",
       "  color: var(--sklearn-color-background);\n",
       "  text-decoration: none;\n",
       "}\n",
       "\n",
       "/* Span, style for the box shown on hovering the info icon */\n",
       ".sk-estimator-doc-link span {\n",
       "  display: none;\n",
       "  z-index: 9999;\n",
       "  position: relative;\n",
       "  font-weight: normal;\n",
       "  right: .2ex;\n",
       "  padding: .5ex;\n",
       "  margin: .5ex;\n",
       "  width: min-content;\n",
       "  min-width: 20ex;\n",
       "  max-width: 50ex;\n",
       "  color: var(--sklearn-color-text);\n",
       "  box-shadow: 2pt 2pt 4pt #999;\n",
       "  /* unfitted */\n",
       "  background: var(--sklearn-color-unfitted-level-0);\n",
       "  border: .5pt solid var(--sklearn-color-unfitted-level-3);\n",
       "}\n",
       "\n",
       ".sk-estimator-doc-link.fitted span {\n",
       "  /* fitted */\n",
       "  background: var(--sklearn-color-fitted-level-0);\n",
       "  border: var(--sklearn-color-fitted-level-3);\n",
       "}\n",
       "\n",
       ".sk-estimator-doc-link:hover span {\n",
       "  display: block;\n",
       "}\n",
       "\n",
       "/* \"?\"-specific style due to the `<a>` HTML tag */\n",
       "\n",
       "#sk-container-id-1 a.estimator_doc_link {\n",
       "  float: right;\n",
       "  font-size: 1rem;\n",
       "  line-height: 1em;\n",
       "  font-family: monospace;\n",
       "  background-color: var(--sklearn-color-background);\n",
       "  border-radius: 1rem;\n",
       "  height: 1rem;\n",
       "  width: 1rem;\n",
       "  text-decoration: none;\n",
       "  /* unfitted */\n",
       "  color: var(--sklearn-color-unfitted-level-1);\n",
       "  border: var(--sklearn-color-unfitted-level-1) 1pt solid;\n",
       "}\n",
       "\n",
       "#sk-container-id-1 a.estimator_doc_link.fitted {\n",
       "  /* fitted */\n",
       "  border: var(--sklearn-color-fitted-level-1) 1pt solid;\n",
       "  color: var(--sklearn-color-fitted-level-1);\n",
       "}\n",
       "\n",
       "/* On hover */\n",
       "#sk-container-id-1 a.estimator_doc_link:hover {\n",
       "  /* unfitted */\n",
       "  background-color: var(--sklearn-color-unfitted-level-3);\n",
       "  color: var(--sklearn-color-background);\n",
       "  text-decoration: none;\n",
       "}\n",
       "\n",
       "#sk-container-id-1 a.estimator_doc_link.fitted:hover {\n",
       "  /* fitted */\n",
       "  background-color: var(--sklearn-color-fitted-level-3);\n",
       "}\n",
       "</style><div id=\"sk-container-id-1\" class=\"sk-top-container\"><div class=\"sk-text-repr-fallback\"><pre>LogisticRegression()</pre><b>In a Jupyter environment, please rerun this cell to show the HTML representation or trust the notebook. <br />On GitHub, the HTML representation is unable to render, please try loading this page with nbviewer.org.</b></div><div class=\"sk-container\" hidden><div class=\"sk-item\"><div class=\"sk-estimator fitted sk-toggleable\"><input class=\"sk-toggleable__control sk-hidden--visually\" id=\"sk-estimator-id-1\" type=\"checkbox\" checked><label for=\"sk-estimator-id-1\" class=\"sk-toggleable__label fitted sk-toggleable__label-arrow fitted\">&nbsp;&nbsp;LogisticRegression<a class=\"sk-estimator-doc-link fitted\" rel=\"noreferrer\" target=\"_blank\" href=\"https://scikit-learn.org/1.5/modules/generated/sklearn.linear_model.LogisticRegression.html\">?<span>Documentation for LogisticRegression</span></a><span class=\"sk-estimator-doc-link fitted\">i<span>Fitted</span></span></label><div class=\"sk-toggleable__content fitted\"><pre>LogisticRegression()</pre></div> </div></div></div></div>"
      ]
     },
     "execution_count": 21,
     "metadata": {},
     "output_type": "execute_result"
    }
   ],
   "execution_count": 21
  },
  {
   "cell_type": "code",
   "source": "pred_lr = LR.predict(X_test_tfidf)",
   "metadata": {
    "trusted": true,
    "execution": {
     "iopub.status.busy": "2024-12-18T13:55:04.572212Z",
     "iopub.execute_input": "2024-12-18T13:55:04.574023Z",
     "iopub.status.idle": "2024-12-18T13:55:04.584782Z",
     "shell.execute_reply.started": "2024-12-18T13:55:04.573969Z",
     "shell.execute_reply": "2024-12-18T13:55:04.582450Z"
    },
    "ExecuteTime": {
     "end_time": "2024-12-18T14:40:50.504314Z",
     "start_time": "2024-12-18T14:40:50.496497Z"
    }
   },
   "outputs": [],
   "execution_count": 22
  },
  {
   "cell_type": "code",
   "source": "LR.score(X_test_tfidf, y_test)",
   "metadata": {
    "trusted": true,
    "execution": {
     "iopub.status.busy": "2024-12-18T13:55:04.586992Z",
     "iopub.execute_input": "2024-12-18T13:55:04.587472Z",
     "iopub.status.idle": "2024-12-18T13:55:04.613982Z",
     "shell.execute_reply.started": "2024-12-18T13:55:04.587423Z",
     "shell.execute_reply": "2024-12-18T13:55:04.611355Z"
    },
    "ExecuteTime": {
     "end_time": "2024-12-18T14:40:51.968745Z",
     "start_time": "2024-12-18T14:40:51.946924Z"
    }
   },
   "outputs": [
    {
     "data": {
      "text/plain": [
       "0.8452586206896552"
      ]
     },
     "execution_count": 23,
     "metadata": {},
     "output_type": "execute_result"
    }
   ],
   "execution_count": 23
  },
  {
   "cell_type": "markdown",
   "source": "**Visualization of prediction results to understand and model misclassification.**",
   "metadata": {}
  },
  {
   "cell_type": "code",
   "source": "from sklearn.metrics import confusion_matrix, ConfusionMatrixDisplay\nimport matplotlib.pyplot as plt",
   "metadata": {
    "trusted": true,
    "execution": {
     "iopub.status.busy": "2024-12-18T13:55:04.617349Z",
     "iopub.execute_input": "2024-12-18T13:55:04.617846Z",
     "iopub.status.idle": "2024-12-18T13:55:04.629379Z",
     "shell.execute_reply.started": "2024-12-18T13:55:04.617799Z",
     "shell.execute_reply": "2024-12-18T13:55:04.626696Z"
    },
    "ExecuteTime": {
     "end_time": "2024-12-18T14:41:03.339152Z",
     "start_time": "2024-12-18T14:40:54.986564Z"
    }
   },
   "outputs": [],
   "execution_count": 24
  },
  {
   "cell_type": "code",
   "source": "cm = confusion_matrix(y_test, pred_lr)\n\ndisp = ConfusionMatrixDisplay(confusion_matrix=cm, display_labels=[\"Fake\", \"Real\"])\ndisp.plot(cmap=\"Blues\")\nplt.title(\"Confusion Matrix for Fake News Detection\")\nplt.show()\n",
   "metadata": {
    "trusted": true,
    "execution": {
     "iopub.status.busy": "2024-12-18T13:55:04.631554Z",
     "iopub.execute_input": "2024-12-18T13:55:04.632054Z",
     "iopub.status.idle": "2024-12-18T13:55:04.910806Z",
     "shell.execute_reply.started": "2024-12-18T13:55:04.631982Z",
     "shell.execute_reply": "2024-12-18T13:55:04.909589Z"
    }
   },
   "outputs": [
    {
     "output_type": "display_data",
     "data": {
      "text/plain": "<Figure size 640x480 with 2 Axes>",
      "image/png": "[encoded data removed]"
     },
     "metadata": {}
    }
   ],
   "execution_count": 127
  }
 ]
}
